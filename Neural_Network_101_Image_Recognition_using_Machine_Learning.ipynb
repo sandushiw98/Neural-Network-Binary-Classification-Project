{
  "nbformat": 4,
  "nbformat_minor": 0,
  "metadata": {
    "colab": {
      "provenance": [],
      "gpuType": "V28",
      "authorship_tag": "ABX9TyPW3S45fBDawQGSwbmAo0rb",
      "include_colab_link": true
    },
    "kernelspec": {
      "name": "python3",
      "display_name": "Python 3"
    },
    "language_info": {
      "name": "python"
    },
    "accelerator": "TPU"
  },
  "cells": [
    {
      "cell_type": "markdown",
      "metadata": {
        "id": "view-in-github",
        "colab_type": "text"
      },
      "source": [
        "<a href=\"https://colab.research.google.com/github/sandushiw98/Neural-Network-Binary-Classification-Project/blob/main/Neural_Network_101_Image_Recognition_using_Machine_Learning.ipynb\" target=\"_parent\"><img src=\"https://colab.research.google.com/assets/colab-badge.svg\" alt=\"Open In Colab\"/></a>"
      ]
    },
    {
      "cell_type": "code",
      "source": [
        "from google.colab import drive\n",
        "drive.mount('/content/drive')"
      ],
      "metadata": {
        "colab": {
          "base_uri": "https://localhost:8080/"
        },
        "id": "J7S57HMEu6dr",
        "outputId": "d92e99cc-f940-4c78-8ee5-90eeec74a08f"
      },
      "execution_count": 1,
      "outputs": [
        {
          "output_type": "stream",
          "name": "stdout",
          "text": [
            "Mounted at /content/drive\n"
          ]
        }
      ]
    },
    {
      "cell_type": "code",
      "execution_count": 2,
      "metadata": {
        "id": "k5emKT5RMRqM"
      },
      "outputs": [],
      "source": [
        "#Importing the keras librries and packges\n",
        "from keras.models import Sequential\n",
        "from keras.layers import Conv2D\n",
        "from keras.layers import MaxPooling2D\n",
        "from keras.layers import Flatten\n",
        "from keras.layers import Dense"
      ]
    },
    {
      "cell_type": "code",
      "source": [
        "#Initialising the CNN\n",
        "classifier = Sequential()\n",
        "#step 1-Convolutional\n",
        "classifier.add(Conv2D(32,(3,3),input_shape = (64,64,3),activation='relu'))\n",
        "\n",
        "#Adding second convoltional layer-hidden layers\n",
        "classifier.add(Conv2D(32,(3,3),activation='relu'))\n",
        "classifier.add(MaxPooling2D(pool_size=(2,2)))\n"
      ],
      "metadata": {
        "id": "-togkGxyNUCi"
      },
      "execution_count": 3,
      "outputs": []
    },
    {
      "cell_type": "code",
      "source": [
        "#step 3-Flattening\n",
        "classifier.add(Flatten())\n",
        "\n",
        "#step 4-Full connection\n",
        "classifier.add(Dense(units=128,activation='relu'))\n",
        "classifier.add(Dense(units=1,activation='sigmoid'))\n"
      ],
      "metadata": {
        "id": "mejpRbXLPaQL"
      },
      "execution_count": 4,
      "outputs": []
    },
    {
      "cell_type": "code",
      "source": [
        "#Compiling the CNN\n",
        "classifier.compile(optimizer='adam',loss ='binary_crossentropy',metrics=['accuracy'])"
      ],
      "metadata": {
        "id": "efjh80NbRCGz"
      },
      "execution_count": 5,
      "outputs": []
    },
    {
      "cell_type": "code",
      "source": [
        "import tensorflow as tf\n",
        "print(tf.__version__)\n"
      ],
      "metadata": {
        "colab": {
          "base_uri": "https://localhost:8080/"
        },
        "id": "s47anWoqUUtB",
        "outputId": "7730e126-e816-4ae8-89d7-7c301e1d023d"
      },
      "execution_count": 6,
      "outputs": [
        {
          "output_type": "stream",
          "name": "stdout",
          "text": [
            "2.15.0\n"
          ]
        }
      ]
    },
    {
      "cell_type": "code",
      "source": [
        "from tensorflow.keras.preprocessing.image import ImageDataGenerator\n",
        "#part 2-Fitting the CNN to the images\n",
        "\n",
        "\n",
        "train_datagen = ImageDataGenerator(rescale = 1./255,\n",
        "                                   shear_range =0.2,\n",
        "                                   zoom_range=0.2,\n",
        "                                   horizontal_flip=True)"
      ],
      "metadata": {
        "id": "MILV8bHGS8fp"
      },
      "execution_count": 7,
      "outputs": []
    },
    {
      "cell_type": "code",
      "source": [
        "training_set = train_datagen.flow_from_directory('/content/drive/MyDrive/Cat and Dog/training_set',\n",
        "                                                 target_size=(64,64),\n",
        "                                                 batch_size=32,\n",
        "                                                 class_mode='binary')\n"
      ],
      "metadata": {
        "colab": {
          "base_uri": "https://localhost:8080/"
        },
        "id": "woX3D6CBUssw",
        "outputId": "3c186993-6197-4f4f-ce8f-30428256e1c8"
      },
      "execution_count": 8,
      "outputs": [
        {
          "output_type": "stream",
          "name": "stdout",
          "text": [
            "Found 8005 images belonging to 1 classes.\n"
          ]
        }
      ]
    },
    {
      "cell_type": "code",
      "source": [
        "test_datagen = ImageDataGenerator(rescale = 1./255)\n",
        "test_set = train_datagen.flow_from_directory('/content/drive/MyDrive/Cat and Dog/test_set',\n",
        "                                                 target_size=(64,64),\n",
        "                                                 batch_size=32,\n",
        "                                                 class_mode='binary')\n"
      ],
      "metadata": {
        "colab": {
          "base_uri": "https://localhost:8080/"
        },
        "id": "gJI6_eVVkGKc",
        "outputId": "34da22d5-6444-4272-9678-0e0997441b81"
      },
      "execution_count": 9,
      "outputs": [
        {
          "output_type": "stream",
          "name": "stdout",
          "text": [
            "Found 2023 images belonging to 1 classes.\n"
          ]
        }
      ]
    },
    {
      "cell_type": "code",
      "source": [
        "classifier.fit(\n",
        "    training_set,  # make sure this generator is correctly set up to yield batches from your training data\n",
        "    steps_per_epoch=251,  # calculated as total training samples divided by batch size\n",
        "    epochs=10,  # the number of epochs to train for\n",
        "    validation_data=test_set,  # make sure this generator yields batches from your testing data\n",
        "    validation_steps=64  # calculated as total test samples divided by batch size\n",
        ")\n",
        "\n"
      ],
      "metadata": {
        "colab": {
          "base_uri": "https://localhost:8080/"
        },
        "id": "99HsOU-1kcSJ",
        "outputId": "afa248a0-dbab-4c9f-d70e-01124e82e950"
      },
      "execution_count": 10,
      "outputs": [
        {
          "output_type": "stream",
          "name": "stdout",
          "text": [
            "Epoch 1/10\n",
            "251/251 [==============================] - 1606s 6s/step - loss: 0.0029 - accuracy: 0.9960 - val_loss: 4.8126e-17 - val_accuracy: 1.0000\n",
            "Epoch 2/10\n",
            "251/251 [==============================] - 48s 193ms/step - loss: 6.9163e-19 - accuracy: 1.0000 - val_loss: 8.9459e-19 - val_accuracy: 1.0000\n",
            "Epoch 3/10\n",
            "251/251 [==============================] - 48s 189ms/step - loss: 8.0000e-17 - accuracy: 1.0000 - val_loss: 2.2986e-18 - val_accuracy: 1.0000\n",
            "Epoch 4/10\n",
            "251/251 [==============================] - 47s 189ms/step - loss: 6.7866e-19 - accuracy: 1.0000 - val_loss: 4.2330e-18 - val_accuracy: 1.0000\n",
            "Epoch 5/10\n",
            "251/251 [==============================] - 48s 191ms/step - loss: 1.5323e-18 - accuracy: 1.0000 - val_loss: 9.9155e-18 - val_accuracy: 1.0000\n",
            "Epoch 6/10\n",
            "251/251 [==============================] - 47s 187ms/step - loss: 9.8320e-19 - accuracy: 1.0000 - val_loss: 7.3827e-17 - val_accuracy: 1.0000\n",
            "Epoch 7/10\n",
            "251/251 [==============================] - 47s 187ms/step - loss: 6.6339e-19 - accuracy: 1.0000 - val_loss: 1.8072e-18 - val_accuracy: 1.0000\n",
            "Epoch 8/10\n",
            "251/251 [==============================] - 48s 192ms/step - loss: 1.3116e-18 - accuracy: 1.0000 - val_loss: 1.0891e-18 - val_accuracy: 1.0000\n",
            "Epoch 9/10\n",
            "251/251 [==============================] - 47s 188ms/step - loss: 1.2342e-17 - accuracy: 1.0000 - val_loss: 9.3772e-19 - val_accuracy: 1.0000\n",
            "Epoch 10/10\n",
            "251/251 [==============================] - 47s 189ms/step - loss: 4.7171e-19 - accuracy: 1.0000 - val_loss: 5.1824e-19 - val_accuracy: 1.0000\n"
          ]
        },
        {
          "output_type": "execute_result",
          "data": {
            "text/plain": [
              "<keras.src.callbacks.History at 0x7f2a2c1037f0>"
            ]
          },
          "metadata": {},
          "execution_count": 10
        }
      ]
    },
    {
      "cell_type": "code",
      "source": [
        "#part 3 -Making new predictions\n",
        "import numpy as np\n",
        "from keras.preprocessing import image\n",
        "test_image= image.load_img('/content/drive/MyDrive/download.jpg',target_size=(64,64))\n",
        "test_image = image.img_to_array(test_image)\n",
        "test_image = np.expand_dims(test_image,axis=0)\n",
        "result = classifier.predict(test_image)\n",
        "training_set.class_indices\n",
        "if result[0][0] ==1:\n",
        "       prediction ='dog'\n",
        "else:\n",
        "       prediction = 'cat'\n",
        "print(prediction)"
      ],
      "metadata": {
        "id": "t8VCLylrptJg",
        "colab": {
          "base_uri": "https://localhost:8080/"
        },
        "outputId": "fe70b18d-d913-4f14-c7bc-ac9ed8e694f2"
      },
      "execution_count": 12,
      "outputs": [
        {
          "output_type": "stream",
          "name": "stdout",
          "text": [
            "1/1 [==============================] - 0s 27ms/step\n",
            "cat\n"
          ]
        }
      ]
    },
    {
      "cell_type": "code",
      "source": [],
      "metadata": {
        "id": "-6rDqoKUrr-k"
      },
      "execution_count": null,
      "outputs": []
    }
  ]
}